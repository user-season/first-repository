{
 "cells": [
  {
   "cell_type": "markdown",
   "id": "a420fcec-a7a2-459b-b064-088ea70b1ec0",
   "metadata": {},
   "source": [
    "- [REGRESSION](#REGRESSION)\n",
    "- [FORCASTING](#FORCASTING)"
   ]
  },
  {
   "cell_type": "markdown",
   "id": "ea506bf0-3207-400d-beb3-4795191a8535",
   "metadata": {},
   "source": [
    "# I. REGRESSION"
   ]
  },
  {
   "cell_type": "code",
   "execution_count": 1,
   "id": "d44e6d23-77db-4452-9c90-3e6eccfb9c21",
   "metadata": {},
   "outputs": [],
   "source": [
    "import numpy as np\n",
    "import pandas as pd\n",
    "from scipy.stats import linregress\n",
    "import statsmodels.api as sm"
   ]
  },
  {
   "cell_type": "code",
   "execution_count": 2,
   "id": "7ddcc85e-5288-4ac2-9726-3df38e8a4421",
   "metadata": {},
   "outputs": [],
   "source": [
    "x = np.array([40, 72, 98, 110, 75, 50, 120, 145])  # Sản lượng sản xuất (nghìn bình)\n",
    "y = np.array([35, 32, 29, 29, 31, 33, 28, 27])      # Giá thành đơn vị (nghìn đồng)"
   ]
  },
  {
   "cell_type": "markdown",
   "id": "f6500a75-b1b8-41ee-90b4-7e96f7a9c274",
   "metadata": {},
   "source": [
    "### 1. Tính độ tương quan"
   ]
  },
  {
   "cell_type": "code",
   "execution_count": 3,
   "id": "99647c4f-5d02-456e-b8de-a375cc2a5bb3",
   "metadata": {},
   "outputs": [
    {
     "data": {
      "text/plain": [
       "array([[ 1.        , -0.97653724],\n",
       "       [-0.97653724,  1.        ]])"
      ]
     },
     "execution_count": 3,
     "metadata": {},
     "output_type": "execute_result"
    }
   ],
   "source": [
    "np.corrcoef(x, y)"
   ]
  },
  {
   "cell_type": "markdown",
   "id": "2f3fb525-7217-4242-8a3e-bc11aff25d12",
   "metadata": {},
   "source": [
    "### 2. Xây dựng mô hình"
   ]
  },
  {
   "cell_type": "code",
   "execution_count": 4,
   "id": "9245df3a-780c-4195-a7f0-ae73133d4762",
   "metadata": {},
   "outputs": [
    {
     "name": "stdout",
     "output_type": "stream",
     "text": [
      "                            OLS Regression Results                            \n",
      "==============================================================================\n",
      "Dep. Variable:                      y   R-squared:                       0.954\n",
      "Model:                            OLS   Adj. R-squared:                  0.946\n",
      "Method:                 Least Squares   F-statistic:                     123.4\n",
      "Date:                Sat, 23 Nov 2024   Prob (F-statistic):           3.17e-05\n",
      "Time:                        12:34:46   Log-Likelihood:                -6.5547\n",
      "No. Observations:                   8   AIC:                             17.11\n",
      "Df Residuals:                       6   BIC:                             17.27\n",
      "Df Model:                           1                                         \n",
      "Covariance Type:            nonrobust                                         \n",
      "==============================================================================\n",
      "                 coef    std err          t      P>|t|      [0.025      0.975]\n",
      "------------------------------------------------------------------------------\n",
      "Intercept     37.0784      0.633     58.554      0.000      35.529      38.628\n",
      "x             -0.0741      0.007    -11.108      0.000      -0.090      -0.058\n",
      "==============================================================================\n",
      "Omnibus:                        0.506   Durbin-Watson:                   1.441\n",
      "Prob(Omnibus):                  0.776   Jarque-Bera (JB):                0.488\n",
      "Skew:                           0.209   Prob(JB):                        0.784\n",
      "Kurtosis:                       1.865   Cond. No.                         268.\n",
      "==============================================================================\n",
      "\n",
      "Notes:\n",
      "[1] Standard Errors assume that the covariance matrix of the errors is correctly specified.\n"
     ]
    },
    {
     "name": "stderr",
     "output_type": "stream",
     "text": [
      "C:\\ProgramData\\anaconda3\\Lib\\site-packages\\scipy\\stats\\_axis_nan_policy.py:531: UserWarning: kurtosistest only valid for n>=20 ... continuing anyway, n=8\n",
      "  res = hypotest_fun_out(*samples, **kwds)\n"
     ]
    }
   ],
   "source": [
    "# Xây dựng mô hình ordinary least square (OLS)\n",
    "model = sm.formula.ols('y~x', data=pd.DataFrame({'x': x, 'y':y})).fit()\n",
    "\n",
    "print(model.summary())"
   ]
  },
  {
   "cell_type": "code",
   "execution_count": 5,
   "id": "502ec31d-b9ed-4550-8611-7c4a1eddd8cc",
   "metadata": {},
   "outputs": [
    {
     "name": "stdout",
     "output_type": "stream",
     "text": [
      "b0=37.07844440751203, b1=-0.07412331726774113\n"
     ]
    }
   ],
   "source": [
    "b0 = model.params.iloc[0]\n",
    "b1 = model.params.iloc[1]\n",
    "print(f'b0={b0}, b1={b1}')"
   ]
  },
  {
   "cell_type": "markdown",
   "id": "5cfd475b-651d-4fa6-8532-b7b06ae53380",
   "metadata": {},
   "source": [
    "- **Ý nghĩa:** Hệ số góc $b_i$ thể hiện mức thay đổi trung bình của $y$ khi $x$ tăng thêm một đơn vị. Nếu $b-i$ âm, giá thành đơn vị giảm khi sản lượng tăng."
   ]
  },
  {
   "cell_type": "markdown",
   "id": "9ddded9e-54c5-47c8-8862-906a61b29671",
   "metadata": {},
   "source": [
    "### 3. Kiếm định"
   ]
  },
  {
   "cell_type": "markdown",
   "id": "9acb978d-1c2c-4098-ad24-f40aca26d9bf",
   "metadata": {},
   "source": [
    "$$t_i = \\dfrac{b_i}{S_{b_i}}$$"
   ]
  },
  {
   "cell_type": "markdown",
   "id": "6f4bc5c8-ad96-4188-b27d-4daf180313e5",
   "metadata": {},
   "source": [
    "- Giá trị tới hạn"
   ]
  },
  {
   "cell_type": "code",
   "execution_count": 6,
   "id": "f7997048-52e6-4c03-b683-233b8d39f9f0",
   "metadata": {},
   "outputs": [
    {
     "data": {
      "text/plain": [
       "2.3646242515927844"
      ]
     },
     "execution_count": 6,
     "metadata": {},
     "output_type": "execute_result"
    }
   ],
   "source": [
    "from scipy.stats import t\n",
    "\n",
    "# Định nghĩa thông số\n",
    "n=10\n",
    "k=2\n",
    "alpha = 0.05  # Mức ý nghĩa\n",
    "df = n - k - 1  # Bậc tự do: n - k - 1\n",
    "\n",
    "# Tính giá trị tới hạn t\n",
    "t_critical = t.ppf(1 - alpha / 2, df)\n",
    "t_critical\n"
   ]
  },
  {
   "cell_type": "markdown",
   "id": "dbb15ced-65f0-4c9f-927d-37690f8c0cc6",
   "metadata": {},
   "source": [
    "- Giá trị t của các biến"
   ]
  },
  {
   "cell_type": "code",
   "execution_count": 12,
   "id": "87b1188b-2c12-4207-909d-90458a30e373",
   "metadata": {},
   "outputs": [
    {
     "data": {
      "text/plain": [
       "x   -11.107656\n",
       "dtype: float64"
      ]
     },
     "execution_count": 12,
     "metadata": {},
     "output_type": "execute_result"
    }
   ],
   "source": [
    "model.tvalues.iloc[1:]"
   ]
  },
  {
   "cell_type": "markdown",
   "id": "2815f062-784f-4c32-9fa1-63fd45c389d2",
   "metadata": {},
   "source": [
    "- **Nhận xét:** Từ giá trị kiểm định t của biến x và giá trị tới hạn cho thấy $|t| > t^{n-k-1}_{\\alpha/2}$, nên x có ý nghĩa thống kê"
   ]
  },
  {
   "cell_type": "markdown",
   "id": "b6ec60c7-7215-48d6-891a-1c5fc0ad17d3",
   "metadata": {},
   "source": [
    "### 4. Đánh giá mô hình bằng $R^2$"
   ]
  },
  {
   "cell_type": "code",
   "execution_count": 8,
   "id": "e10d694b-7f71-4e1b-9126-4ead3f449976",
   "metadata": {},
   "outputs": [
    {
     "data": {
      "text/plain": [
       "0.953624985617673"
      ]
     },
     "execution_count": 8,
     "metadata": {},
     "output_type": "execute_result"
    }
   ],
   "source": [
    "model.rsquared"
   ]
  },
  {
   "cell_type": "markdown",
   "id": "4267f0db-42c5-4928-9ee3-b424a80d8f76",
   "metadata": {},
   "source": [
    "### 5. Dự đoán"
   ]
  },
  {
   "cell_type": "code",
   "execution_count": 9,
   "id": "d132d3bb-0d4b-4b14-bf31-652aead37dd6",
   "metadata": {},
   "outputs": [
    {
     "data": {
      "text/plain": [
       "Intercept    37.078444\n",
       "x            -0.074123\n",
       "dtype: float64"
      ]
     },
     "execution_count": 9,
     "metadata": {},
     "output_type": "execute_result"
    }
   ],
   "source": [
    "model.params"
   ]
  },
  {
   "cell_type": "code",
   "execution_count": 10,
   "id": "4c1bf34c-6ed9-4fd0-bf06-17b777e64bed",
   "metadata": {},
   "outputs": [
    {
     "data": {
      "text/plain": [
       "25.95994681735086"
      ]
     },
     "execution_count": 10,
     "metadata": {},
     "output_type": "execute_result"
    }
   ],
   "source": [
    "model.params.iloc[0] + model.params.iloc[1]*150"
   ]
  },
  {
   "cell_type": "code",
   "execution_count": 11,
   "id": "b5870a17-bc22-4257-bd59-a4d116b2dbe8",
   "metadata": {},
   "outputs": [
    {
     "data": {
      "text/plain": [
       "0    25.959947\n",
       "dtype: float64"
      ]
     },
     "execution_count": 11,
     "metadata": {},
     "output_type": "execute_result"
    }
   ],
   "source": [
    "model.predict(exog=dict(x=150))"
   ]
  },
  {
   "cell_type": "code",
   "execution_count": null,
   "id": "70f91a6e-3db4-4f69-9217-5bad39b976d1",
   "metadata": {},
   "outputs": [],
   "source": []
  },
  {
   "cell_type": "markdown",
   "id": "7b71ba0a-125e-4ba9-bc5c-dfdfcd2d67f9",
   "metadata": {},
   "source": [
    "<a name=\"FORCASTING\"></a>\n",
    "# II. FORCASTING"
   ]
  },
  {
   "cell_type": "code",
   "execution_count": null,
   "id": "1ffdc92b-0f40-46a6-8c34-a97cc529a5a6",
   "metadata": {},
   "outputs": [],
   "source": []
  },
  {
   "cell_type": "code",
   "execution_count": null,
   "id": "2eeb3cef-bb19-4c72-9acc-6870c14b3007",
   "metadata": {},
   "outputs": [],
   "source": []
  }
 ],
 "metadata": {
  "kernelspec": {
   "display_name": "Python 3 (ipykernel)",
   "language": "python",
   "name": "python3"
  },
  "language_info": {
   "codemirror_mode": {
    "name": "ipython",
    "version": 3
   },
   "file_extension": ".py",
   "mimetype": "text/x-python",
   "name": "python",
   "nbconvert_exporter": "python",
   "pygments_lexer": "ipython3",
   "version": "3.12.7"
  }
 },
 "nbformat": 4,
 "nbformat_minor": 5
}
